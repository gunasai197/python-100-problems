{
 "cells": [
  {
   "cell_type": "code",
   "execution_count": 106,
   "metadata": {},
   "outputs": [
    {
     "name": "stdout",
     "output_type": "stream",
     "text": [
      "True\n"
     ]
    }
   ],
   "source": [
    "#11. Write a Python function that takes two lists and returns True if they have at least one common member.\n",
    "def two_lists(l1,l2):\n",
    "    res = False\n",
    "    for val in l1:\n",
    "        if val in l2:\n",
    "            res = True\n",
    "    return res\n",
    "\n",
    "\n",
    "lst1 = [2,3,5,6,10]\n",
    "lst2 = [100,200,300,6]\n",
    "\n",
    "result = two_lists(lst1,lst2)\n",
    "print(result)"
   ]
  },
  {
   "cell_type": "code",
   "execution_count": 1,
   "metadata": {},
   "outputs": [
    {
     "name": "stdout",
     "output_type": "stream",
     "text": [
      "['Green', 'White', 'Black']\n"
     ]
    }
   ],
   "source": [
    "# 12. Write a Python program to print a specified list after removing the 0th, 4th and 5th elements.\n",
    "#                   0      1        2           3       4       5\n",
    "#   Sample List : ['Red', 'Green', 'White', 'Black', 'Pink', 'Yellow']\n",
    "#   Expected Output : ['Green', 'White', 'Black']\n",
    "lst = ['Red', 'Green', 'White', 'Black', 'Pink', 'Yellow']\n",
    "for i in [5,4,0]:\n",
    "    lst.remove(lst[i])\n",
    "print(lst)\n",
    "    \n"
   ]
  },
  {
   "cell_type": "code",
   "execution_count": 108,
   "metadata": {},
   "outputs": [],
   "source": [
    "# 13. Write a Python program to generate a 3*4*6 3D array whose each element is *\n"
   ]
  },
  {
   "cell_type": "code",
   "execution_count": 109,
   "metadata": {},
   "outputs": [
    {
     "name": "stdout",
     "output_type": "stream",
     "text": [
      "[3, 5, 1, 21, 23, 25, 27]\n"
     ]
    }
   ],
   "source": [
    "# 14. Write a Python program to print the numbers of a specified list after removing even numbers from it.\n",
    "def fining_odd(lst):\n",
    "    if len(lst) == 0:\n",
    "        return \"list is empty\" \n",
    "    result_list=[]\n",
    "    for val in lst:\n",
    "        if val%2!=0:\n",
    "            result_list.append(val)\n",
    "    return result_list\n",
    "\n",
    "l=[2,3,5,1,21,22,23,24,25,27]\n",
    "res = fining_odd(l)\n",
    "print(res)"
   ]
  },
  {
   "cell_type": "code",
   "execution_count": 110,
   "metadata": {},
   "outputs": [
    {
     "name": "stdout",
     "output_type": "stream",
     "text": [
      "Before shuffle: [1, 2, 3, 4, 5, 6, 7, 8]\n",
      "After shuffle: [4, 7, 8, 1, 6, 3, 5, 2]\n"
     ]
    }
   ],
   "source": [
    "#15. Write a Python program to shuffle and print a specified list\n",
    "import random\n",
    "\n",
    "lst = [1,2,3,4,5,6,7,8]\n",
    "print(\"Before shuffle:\",lst)\n",
    "\n",
    "random.shuffle(lst)\n",
    "print(\"After shuffle:\",lst)\n"
   ]
  },
  {
   "cell_type": "code",
   "execution_count": 6,
   "metadata": {},
   "outputs": [
    {
     "name": "stdout",
     "output_type": "stream",
     "text": [
      "[1, 676, 729, 784, 841, 900]\n"
     ]
    }
   ],
   "source": [
    "# 16. Write a Python program to generate and print a list of first and last 5 elements where the\n",
    "#     values are squares of numbers between 1 and 30 (both included).\n",
    "\n",
    "empty_list = []\n",
    "for val in range(1,31):\n",
    "    empty_list.append(val**2)\n",
    "    return_list = []\n",
    "    return_list.append(empty_list[0])\n",
    "    return_list.extend(empty_list[25:31])\n",
    "print(return_list)\n",
    "\n"
   ]
  },
  {
   "cell_type": "code",
   "execution_count": 7,
   "metadata": {},
   "outputs": [
    {
     "name": "stdout",
     "output_type": "stream",
     "text": [
      "original list: [1, 4, 9, 16, 25, 36, 49, 64, 81, 100, 121, 144, 169, 196, 225, 256, 289, 324, 361, 400, 441, 484, 529, 576, 625, 676, 729, 784, 841, 900]\n",
      "first and last 5 element from list: [1, 676, 729, 784, 841, 900]\n"
     ]
    }
   ],
   "source": [
    "lst = [i**2 for i in range(1,31)]\n",
    "result_lst = []\n",
    "result_lst.append(lst[0])\n",
    "result_lst.extend(lst[25:30])\n",
    "print(\"original list:\",lst)\n",
    "print(\"first and last 5 element from list:\",result_lst)"
   ]
  },
  {
   "cell_type": "code",
   "execution_count": 112,
   "metadata": {},
   "outputs": [
    {
     "name": "stdout",
     "output_type": "stream",
     "text": [
      "original list: [1, 4, 9, 16, 25, 36, 49, 64, 81, 100, 121, 144, 169, 196, 225, 256, 289, 324, 361, 400, 441, 484, 529, 576, 625, 676, 729, 784, 841, 900]\n",
      "frist element: 1\n",
      "last 5 elements: [676, 729, 784, 841, 900]\n"
     ]
    }
   ],
   "source": [
    "lst=[i**2 for i in range(1,31)]\n",
    "print(\"original list:\",lst)\n",
    "print(\"frist element:\",lst[0])\n",
    "print(\"last 5 elements:\",lst[25:30])"
   ]
  },
  {
   "cell_type": "code",
   "execution_count": 9,
   "metadata": {},
   "outputs": [
    {
     "name": "stdout",
     "output_type": "stream",
     "text": [
      "[36, 49, 64, 81, 100, 121, 144, 169, 196, 225, 256, 289, 324, 361, 400, 441, 484, 529, 576, 625, 676, 729, 784, 841, 900]\n"
     ]
    }
   ],
   "source": [
    "# 17. Write a Python program to generate and print a list except for the first 5 elements, where the \n",
    "#     values are squares of numbers between 1 and 30 (both included).\n",
    "lst = [i**2 for i in range(1,31)]\n",
    "print(lst[5:len(lst)])"
   ]
  },
  {
   "cell_type": "code",
   "execution_count": null,
   "metadata": {},
   "outputs": [],
   "source": [
    "# 18. Write a Python program to generate all permutations of a list in Python.\n"
   ]
  },
  {
   "cell_type": "code",
   "execution_count": null,
   "metadata": {},
   "outputs": [
    {
     "name": "stdout",
     "output_type": "stream",
     "text": [
      "300\n",
      "===way two to solve===\n",
      "{100}\n"
     ]
    }
   ],
   "source": [
    "# 19. Write a Python program to get the difference between the two lists\n",
    "lst1 = [100,300,400,600]\n",
    "lst2 = [100,600,700,400]\n",
    "\n",
    "for val in lst1:\n",
    "    if (val not in lst2):\n",
    "        print(val)\n",
    "\n",
    "print(\"===way two to solve===\")\n",
    "\n",
    "first_lst = [300,200,100,500]\n",
    "sec_lst = [1,300,200,500]\n",
    "\n",
    "res_lst = list(set(first_lst) - set(sec_lst))\n",
    "print(res_lst)\n"
   ]
  },
  {
   "cell_type": "code",
   "execution_count": 43,
   "metadata": {},
   "outputs": [
    {
     "name": "stdout",
     "output_type": "stream",
     "text": [
      "index: 2\n"
     ]
    }
   ],
   "source": [
    "# 20. Write a Python program to access the index of a list.\n",
    "lst = [[20,30],[40,50],[35,45]]\n",
    "\n",
    "print(\"index:\",lst.index([35,45]))"
   ]
  },
  {
   "cell_type": "code",
   "execution_count": 92,
   "metadata": {},
   "outputs": [
    {
     "name": "stdout",
     "output_type": "stream",
     "text": [
      "gunasai <class 'str'>\n"
     ]
    }
   ],
   "source": [
    "# 21. Write a Python program to convert a list of characters into a string.\n",
    "\n",
    "list_char = ['g','u','n','a','s','a','i']\n",
    "result_str = \"\".join(list_char)\n",
    "print(f\"{result_str}\",type(result_str))"
   ]
  },
  {
   "cell_type": "code",
   "execution_count": 3,
   "metadata": {},
   "outputs": [
    {
     "name": "stdout",
     "output_type": "stream",
     "text": [
      "original list: ['apple', 'grapes', 'pineapple', 'orange', 'green-apple']\n",
      "index value for:3\n"
     ]
    }
   ],
   "source": [
    "# 22. Write a Python program to find the index of an item in a specified list\n",
    "\n",
    "f_lst = ['apple','grapes','pineapple','orange','green-apple']\n",
    "print(\"original list:\",f_lst)\n",
    "index = f_lst.index('orange')\n",
    "print(f\"index value for:{index}\")\n"
   ]
  },
  {
   "cell_type": "code",
   "execution_count": null,
   "metadata": {},
   "outputs": [],
   "source": [
    "#  23. Write a Python program to flatten a shallow list.\n"
   ]
  },
  {
   "cell_type": "code",
   "execution_count": 10,
   "metadata": {},
   "outputs": [
    {
     "name": "stdout",
     "output_type": "stream",
     "text": [
      "original list-1: [30, 39, 40, 50, 60, 65]\n",
      "original list-2: [29, 30, 78, 90, 100]\n",
      "After append list: [29, 30, 78, 90, 100, [30, 39, 40, 50, 60, 65]]\n"
     ]
    }
   ],
   "source": [
    "# 24. Write a Python program to append a list to the second list\n",
    "\n",
    "list_1 = [30,39,40,50,60,65]\n",
    "list_2 = [29,30,78,90,100]\n",
    "print(\"original list-1:\",list_1)\n",
    "print(\"original list-2:\",list_2)\n",
    "list_2.append(list_1)\n",
    "print(\"After append list:\",list_2)"
   ]
  },
  {
   "cell_type": "code",
   "execution_count": 24,
   "metadata": {},
   "outputs": [
    {
     "name": "stdout",
     "output_type": "stream",
     "text": [
      "Original list-1: ['gunasai', 'gokul', 'krishna', 'sai', 'johny', 'mahathi']\n",
      "Original list-2: ['raja', 'rajesh', 'ramesh', 'rajkuram', 'gopal']\n",
      "After append list: ['raja', 'rajesh', 'ramesh', 'rajkuram', 'gopal', 'gunasai', 'gokul', 'krishna', 'sai', 'johny', 'mahathi']\n"
     ]
    }
   ],
   "source": [
    "l1 = [\"gunasai\",'gokul','krishna','sai','johny','mahathi']\n",
    "l2 = ['raja','rajesh','ramesh','rajkuram','gopal']\n",
    "print(\"Original list-1:\",l1)\n",
    "print(\"Original list-2:\",l2)\n",
    "for val in l1:\n",
    "    l2.append(val)\n",
    "print(\"After append list:\",l2)"
   ]
  },
  {
   "cell_type": "code",
   "execution_count": 11,
   "metadata": {},
   "outputs": [
    {
     "name": "stdout",
     "output_type": "stream",
     "text": [
      "original list-1: [30, 39, 40, 50, 60, 65]\n",
      "original list-2: [29, 30, 78, 90, 100]\n",
      "After append list: [29, 30, 78, 90, 100, 30, 39, 40, 50, 60, 65]\n"
     ]
    }
   ],
   "source": [
    "list_1 = [30,39,40,50,60,65]\n",
    "list_2 = [29,30,78,90,100]\n",
    "print(\"original list-1:\",list_1)\n",
    "print(\"original list-2:\",list_2)\n",
    "list_2.extend(list_1)\n",
    "print(\"After append list:\",list_2)"
   ]
  },
  {
   "cell_type": "code",
   "execution_count": null,
   "metadata": {},
   "outputs": [
    {
     "name": "stdout",
     "output_type": "stream",
     "text": [
      "1 1\n",
      "1 2\n",
      "1 3\n",
      "1 4\n",
      "2 1\n",
      "2 2\n",
      "2 3\n",
      "2 4\n",
      "3 1\n",
      "3 2\n",
      "3 3\n",
      "3 4\n",
      "4 1\n",
      "4 2\n",
      "4 3\n",
      "4 4\n"
     ]
    }
   ],
   "source": [
    "def basic(arr):\n",
    "    for i in range(len(arr)):\n",
    "        for j in range(len(arr)):\n",
    "            print(arr[i],arr[j]) # 1,1 | 1,2 | 1,3 | 1,4 - 2,1 | 2,2 | 2,3| 2,4 - 3,1 | 3,2 | 3,3 | 3,4 - 4,1 | 4,2 | 4,3 | 4,4\n",
    "                                 \n",
    "list_1 = [1,2,3,4]\n",
    "basic(list_1)\n"
   ]
  },
  {
   "cell_type": "code",
   "execution_count": 3,
   "metadata": {},
   "outputs": [
    {
     "name": "stdout",
     "output_type": "stream",
     "text": [
      "greenapple\n"
     ]
    }
   ],
   "source": [
    "# 25. Write a Python program to select an item randomly from a list.\n",
    "import random as r \n",
    "\n",
    "list_items = [\"apple\",\"pinepple\",'berry','greenapple','orange']\n",
    " \n",
    "selected_item = r.choice(list_items)\n",
    "print(selected_item)"
   ]
  },
  {
   "cell_type": "code",
   "execution_count": null,
   "metadata": {},
   "outputs": [],
   "source": [
    "# 26. Write a python program to check whether two lists are circularly identical.\n"
   ]
  },
  {
   "cell_type": "code",
   "execution_count": 9,
   "metadata": {},
   "outputs": [
    {
     "name": "stdout",
     "output_type": "stream",
     "text": [
      "120\n"
     ]
    }
   ],
   "source": [
    "def factorial(num):\n",
    "    res = 1\n",
    "    for i in range(1,num+1):\n",
    "        res = i*res\n",
    "  \n",
    "\n",
    "        \n",
    "    print(res)\n",
    "number = 5\n",
    "factorial(number)\n"
   ]
  },
  {
   "cell_type": "code",
   "execution_count": null,
   "metadata": {},
   "outputs": [
    {
     "name": "stdout",
     "output_type": "stream",
     "text": [
      "1 2 3 5 8 13 21 34 55 89 144 233 377 610 987 1597 2584 4181 6765 "
     ]
    }
   ],
   "source": [
    "# fibonacci series problem \n",
    "num1 = 0\n",
    "num2 = 1 \n",
    "res = num2 \n",
    "for i in range(1,20):\n",
    "    print(res,end=\" \") # 1\n",
    "    num1, num2 = num2, res # 1,1 1,2  \n",
    "    res = num1+num2 # 2,3,5\n",
    "    "
   ]
  },
  {
   "cell_type": "code",
   "execution_count": 16,
   "metadata": {},
   "outputs": [
    {
     "name": "stdout",
     "output_type": "stream",
     "text": [
      "1 2 3 5 8 13 21 34 55 89 "
     ]
    }
   ],
   "source": [
    "n = 10\n",
    "num1 = 0\n",
    "num2 = 1\n",
    "next_number = num2  \n",
    "count = 1\n",
    "\n",
    "while count <= n:\n",
    "    print(next_number, end=\" \")\n",
    "    count += 1\n",
    "    num1, num2 = num2, next_number\n",
    "    next_number = num1 + num2\n",
    "\n"
   ]
  },
  {
   "cell_type": "code",
   "execution_count": 24,
   "metadata": {},
   "outputs": [
    {
     "name": "stdout",
     "output_type": "stream",
     "text": [
      "0\n",
      "1\n",
      "1\n",
      "2\n",
      "3\n",
      "5\n",
      "8\n",
      "13\n"
     ]
    }
   ],
   "source": [
    "# fibonacci series problem \n",
    "def fib(n):\n",
    "\n",
    "    a = 0\n",
    "    b = 1\n",
    "    if n > 0:\n",
    "        if n == 1:\n",
    "            print(a)\n",
    "        else:\n",
    "            print(a)\n",
    "            print(b)\n",
    "            for i in range(2,n):\n",
    "                c = a + b\n",
    "                a = b\n",
    "                b = c\n",
    "                print(c)\n",
    "    else:\n",
    "        print(\"invalid number\")\n",
    "        \n",
    "\n",
    "\n",
    "\n",
    "fib(8)"
   ]
  },
  {
   "cell_type": "code",
   "execution_count": null,
   "metadata": {},
   "outputs": [],
   "source": [
    "# 26. Write a python program to check whether two lists are circularly identical"
   ]
  },
  {
   "cell_type": "code",
   "execution_count": 12,
   "metadata": {},
   "outputs": [
    {
     "name": "stdout",
     "output_type": "stream",
     "text": [
      "7\n"
     ]
    }
   ],
   "source": [
    "# 27. Write a Python program to find the second smallest number in a list.\n",
    "\n",
    "lst = [10,7,8,6,7]\n",
    "lst.remove(min(lst))\n",
    "#print(lst)\n",
    "sec_small = min(lst)\n",
    "print(sec_small)\n",
    "    \n"
   ]
  },
  {
   "cell_type": "code",
   "execution_count": 14,
   "metadata": {},
   "outputs": [
    {
     "name": "stdout",
     "output_type": "stream",
     "text": [
      "second smallest number: 67\n",
      "frist largest number: 90\n"
     ]
    }
   ],
   "source": [
    "# find the second smallest number and first largest number in list.\n",
    "lst = [90,67,89,56]\n",
    "lst.sort()\n",
    "print(\"second smallest number:\",lst[1])\n",
    "print(\"frist largest number:\",lst[-1])"
   ]
  }
 ],
 "metadata": {
  "kernelspec": {
   "display_name": "Python 3",
   "language": "python",
   "name": "python3"
  },
  "language_info": {
   "codemirror_mode": {
    "name": "ipython",
    "version": 3
   },
   "file_extension": ".py",
   "mimetype": "text/x-python",
   "name": "python",
   "nbconvert_exporter": "python",
   "pygments_lexer": "ipython3",
   "version": "3.13.0"
  }
 },
 "nbformat": 4,
 "nbformat_minor": 2
}
